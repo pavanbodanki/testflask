{
 "cells": [
  {
   "cell_type": "code",
   "execution_count": 2,
   "id": "a7fb69f1-2712-4e3d-b6bb-11d521723b95",
   "metadata": {},
   "outputs": [
    {
     "ename": "SyntaxError",
     "evalue": "invalid syntax (64999626.py, line 1)",
     "output_type": "error",
     "traceback": [
      "\u001b[1;36m  Cell \u001b[1;32mIn[2], line 1\u001b[1;36m\u001b[0m\n\u001b[1;33m    pip install Flask\u001b[0m\n\u001b[1;37m        ^\u001b[0m\n\u001b[1;31mSyntaxError\u001b[0m\u001b[1;31m:\u001b[0m invalid syntax\n"
     ]
    }
   ],
   "source": [
    "from flask import Flask, request, jsonify, render_template\n",
    "import joblib\n",
    "import numpy as np\n",
    "from waitress import serve\n",
    "app = Flask(__name__)\n",
    "model = joblib.load('model.pkl')  # Simplified loading, ensure 'model.pkl' is in your working directory\n",
    "\n",
    "@app.route('/')\n",
    "def home():\n",
    "    return render_template('index.html')\n",
    "app.route('/api', methods=['POST','GET'])\n",
    "def predict():\n",
    "    data = request.get_json(force=True)\n",
    "    # Extract individual features based on the incoming JSON keys\n",
    "    features = [data['SepalLengthCm'], data['SepalWidthCm'], data['PetalLengthCm'], data['PetalWidthCm']]\n",
    "    prediction = model.predict([features])\n",
    "    output = prediction[0]\n",
    "    return jsonify(output)\n",
    "\n",
    "\n",
    "\n",
    "if __name__ == '__main__':\n",
    "    #serve(app, host=\"0.0.0.0\", port=8000)\n",
    "    app.run(port=5000, debug=True)\n",
    "\n",
    "    \n"
   ]
  },
  {
   "cell_type": "code",
   "execution_count": null,
   "id": "4d80469b-8017-493a-8ded-d0ae18d67552",
   "metadata": {},
   "outputs": [],
   "source": []
  }
 ],
 "metadata": {
  "kernelspec": {
   "display_name": "Python 3 (ipykernel)",
   "language": "python",
   "name": "python3"
  },
  "language_info": {
   "codemirror_mode": {
    "name": "ipython",
    "version": 3
   },
   "file_extension": ".py",
   "mimetype": "text/x-python",
   "name": "python",
   "nbconvert_exporter": "python",
   "pygments_lexer": "ipython3",
   "version": "3.11.5"
  }
 },
 "nbformat": 4,
 "nbformat_minor": 5
}
